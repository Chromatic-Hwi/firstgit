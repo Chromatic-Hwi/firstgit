{
 "cells": [
  {
   "cell_type": "markdown",
   "id": "f6d5e928",
   "metadata": {},
   "source": [
    "## 깃허브 사용을 위한 예제 코드~"
   ]
  },
  {
   "cell_type": "code",
   "execution_count": 7,
   "id": "257718a9",
   "metadata": {},
   "outputs": [
    {
     "name": "stdout",
     "output_type": "stream",
     "text": [
      "Hwi \n",
      " Hello World~! \n",
      " who's next?\n"
     ]
    }
   ],
   "source": [
    "#2021.10.25\n",
    "print('Hwi', '\\n', 'Hello World~!', '\\n', \"who's next?\")"
   ]
  },
  {
   "cell_type": "code",
   "execution_count": 1,
   "id": "1d18e413",
   "metadata": {},
   "outputs": [
    {
     "name": "stdout",
     "output_type": "stream",
     "text": [
      "솔부엉이 부엉 부엉\n"
     ]
    }
   ],
   "source": [
    "#2021.10.25\n",
    "print('솔부엉이 부엉 부엉')"
   ]
  }
 ],
 "metadata": {
  "kernelspec": {
   "display_name": "Python 3",
   "language": "python",
   "name": "python3"
  },
  "language_info": {
   "codemirror_mode": {
    "name": "ipython",
    "version": 3
   },
   "file_extension": ".py",
   "mimetype": "text/x-python",
   "name": "python",
   "nbconvert_exporter": "python",
   "pygments_lexer": "ipython3",
   "version": "3.8.8"
  }
 },
 "nbformat": 4,
 "nbformat_minor": 5
}
